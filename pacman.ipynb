{
 "cells": [
  {
   "cell_type": "markdown",
   "metadata": {},
   "source": [
    "Steps\n",
    "Get the Pacman environment\n",
    "Make the DQN model\n",
    "Train the model based on epsilon greedy strategy and save the model and weights\n",
    "Test the model on the test case\n"
   ]
  },
  {
   "cell_type": "markdown",
   "metadata": {},
   "source": [
    "# Step 1 Get the Pacman environment"
   ]
  },
  {
   "cell_type": "code",
   "execution_count": null,
   "metadata": {},
   "outputs": [],
   "source": [
    "%matplotlib inline\n",
    "import matplotlib.pyplot as plt\n",
    "import numpy as np\n",
    "import random\n",
    "import time\n",
    "import pyglet"
   ]
  },
  {
   "cell_type": "code",
   "execution_count": null,
   "metadata": {},
   "outputs": [],
   "source": [
    "from mini_pacman import PacmanGame\n",
    "\n",
    "env = PacmanGame(field_shape=(10,10), nmonsters=2,\n",
    "                 ndiamonds=3, nwalls=4, monster_vision_range=1)\n",
    "#env.print_field()  # will print a picture in text symbols\n",
    "# env.render()  # creates graphical rendering of the field"
   ]
  },
  {
   "cell_type": "code",
   "execution_count": null,
   "metadata": {},
   "outputs": [],
   "source": [
    "from tabulate import tabulate\n",
    "print(tabulate([[1,\"Down-Left\"], \\\n",
    "                [2,\"Down\"], \\\n",
    "                [3,\"Down-Right\"], \\\n",
    "                [4,\"Left\"], \\\n",
    "                [5,\"No Move\"], \\\n",
    "                [6,\"Right\"], \\\n",
    "                [7,\"Up-Left\"], \\\n",
    "                [8,\"Up\"], \\\n",
    "                [9,\"Up-Right\"]], \\\n",
    "               headers = [\"Action Code\", \"Move\"], \\\n",
    "              tablefmt=\"orgtbl\"))"
   ]
  },
  {
   "cell_type": "markdown",
   "metadata": {},
   "source": [
    "# Step 2 Make the DQN model\n"
   ]
  },
  {
   "cell_type": "code",
   "execution_count": null,
   "metadata": {},
   "outputs": [],
   "source": [
    "import random\n",
    "import gc\n",
    "import time\n",
    "import numpy as np\n",
    "\n",
    "from keras.models import Sequential, clone_model\n",
    "from keras.layers import Dense, InputLayer\n",
    "from keras.optimizers import Adam\n",
    "from keras.callbacks import CSVLogger, TensorBoard\n",
    "import keras.backend as K"
   ]
  },
  {
   "cell_type": "markdown",
   "metadata": {},
   "source": [
    "Create a function constructing DQN with 3 hidden layers of 8 units each, input with the shape of observation of the environment and output with the shape of available actions."
   ]
  },
  {
   "cell_type": "code",
   "execution_count": null,
   "metadata": {},
   "outputs": [],
   "source": [
    "def create_dqn_model(input_shape, nb_actions):\n",
    "    model = Sequential()\n",
    "    model.add(Dense(units=8, input_shape=input_shape, activation=\"relu\"))\n",
    "    model.add(Dense(units=8, activation=\"relu\"))\n",
    "    model.add(Dense(units=8, activation=\"relu\"))\n",
    "    model.add(Dense(nb_actions, activation=\"linear\"))\n",
    "    return model"
   ]
  },
  {
   "cell_type": "markdown",
   "metadata": {},
   "source": [
    "Compile the online network using Adam optimizer and loss function of type mse. Clone the online network as target network fixing the same weights as in online network."
   ]
  },
  {
   "cell_type": "code",
   "execution_count": null,
   "metadata": {},
   "outputs": [],
   "source": [
    "def get_state(obs):\n",
    "    v = []\n",
    "    x,y = obs[\"player\"]\n",
    "    v.append(x)\n",
    "    v.append(y)\n",
    "    for x, y in obs[\"monsters\"]:\n",
    "        v.append(x)\n",
    "        v.append(y)\n",
    "    for x, y in obs[\"diamonds\"]:\n",
    "        v.append(x)\n",
    "        v.append(y)\n",
    "    for x, y in obs[\"walls\"]:\n",
    "        v.append(x)\n",
    "        v.append(y)\n",
    "    return v"
   ]
  },
  {
   "cell_type": "code",
   "execution_count": null,
   "metadata": {},
   "outputs": [],
   "source": [
    "obs = env.reset()\n",
    "array_obs = np.array(get_state(obs))\n",
    "\n",
    "input_shape = array_obs.shape\n",
    "nb_actions = 9\n",
    "print(\"input_shape: \", input_shape)\n",
    "print(\"nb_actions: \", nb_actions)\n",
    "\n",
    "online_network = create_dqn_model(input_shape, nb_actions)\n",
    "online_network.compile(optimizer=Adam(), loss=\"mse\")\n",
    "target_network = clone_model(online_network)\n",
    "target_network.set_weights(online_network.get_weights())"
   ]
  },
  {
   "cell_type": "code",
   "execution_count": null,
   "metadata": {},
   "outputs": [],
   "source": [
    "from IPython.display import SVG\n",
    "from keras.utils.vis_utils import model_to_dot\n",
    "print(online_network.summary())\n",
    "\n",
    "SVG(model_to_dot(online_network).create(prog=\"dot\", format=\"svg\"))"
   ]
  },
  {
   "cell_type": "code",
   "execution_count": null,
   "metadata": {},
   "outputs": [],
   "source": [
    "from keras.utils import plot_model\n",
    "plot_model(online_network, to_file=\"online_network.png\",show_shapes=True,show_layer_names=True)"
   ]
  },
  {
   "cell_type": "code",
   "execution_count": null,
   "metadata": {},
   "outputs": [],
   "source": [
    "from collections import deque\n",
    "replay_memory_maxlen = 1_000_000\n",
    "replay_memory = deque([], maxlen=replay_memory_maxlen)"
   ]
  },
  {
   "cell_type": "code",
   "execution_count": null,
   "metadata": {},
   "outputs": [],
   "source": [
    "def epsilon_greedy(q_values, epsilon, n_outputs):\n",
    "    if random.random() < epsilon:\n",
    "        # make sure n_outputs is a list of possible actions\n",
    "        return random.choice(n_outputs)  # random action # return random pic from list of possbile actions \n",
    "    else:\n",
    "        return (np.argmax(q_values) + 1)  # q-optimal action"
   ]
  },
  {
   "cell_type": "code",
   "execution_count": null,
   "metadata": {},
   "outputs": [],
   "source": [
    "n_steps = 100_000 # number of times \n",
    "warmup = 1_000 # first iterations after random initiation before training starts\n",
    "training_interval = 4 # number of steps after which dqn is retrained\n",
    "copy_steps = 2_000 # number of steps after which weights of \n",
    "                   # online network copied into target network\n",
    "gamma = 0.99 # discount rate\n",
    "batch_size = 64 # size of batch from replay memory \n",
    "eps_max = 1.0 # parameters of decaying sequence of eps\n",
    "eps_min = 0.05\n",
    "eps_decay_steps = 50_000"
   ]
  },
  {
   "cell_type": "code",
   "execution_count": null,
   "metadata": {},
   "outputs": [],
   "source": [
    "step = 0\n",
    "iteration = 0\n",
    "done = True \n",
    "\n",
    "obs = env.reset()\n",
    "array_obs = np.array([get_state(obs)])\n",
    "\n",
    "print(\"Observtion: \", [array_obs])\n",
    "q_values = online_network.predict(array_obs)[0]\n",
    "print(\"Q-values\", q_values)"
   ]
  },
  {
   "cell_type": "code",
   "execution_count": null,
   "metadata": {},
   "outputs": [],
   "source": [
    "step = 0\n",
    "iteration = 0\n",
    "done = True\n",
    "warmup = 64\n",
    "\n",
    "for iter in range(warmup):\n",
    "    if done:\n",
    "        obs = env.reset()\n",
    "    iteration += 1\n",
    "    obs = env.get_obs()\n",
    "    obs_state = np.array([get_state(obs)])\n",
    "    q_values = online_network.predict(obs_state)[0]  \n",
    "    epsilon = max(eps_min, eps_max - (eps_max-eps_min) * step/eps_decay_steps)\n",
    "    nb_actions = obs['possible_actions']\n",
    "    action = epsilon_greedy(q_values, epsilon, nb_actions)\n",
    "    next_obs = env.make_action(action)\n",
    "    done = next_obs['end_game']\n",
    "    replay_memory.append((get_state(obs), action, next_obs['reward'], get_state(next_obs), next_obs['end_game']))\n",
    "    obs = next_obs\n",
    "len(replay_memory)"
   ]
  },
  {
   "cell_type": "code",
   "execution_count": null,
   "metadata": {},
   "outputs": [],
   "source": [
    "minibatch = random.sample(replay_memory, batch_size)\n",
    "replay_state = np.array([x[0] for x in minibatch])\n",
    "replay_action = np.array([x[1] - 1 for x in minibatch])\n",
    "replay_rewards = np.array([x[2] for x in minibatch])\n",
    "replay_next_state = np.array([x[3] for x in minibatch])\n",
    "replay_done = np.array([x[4] for x in minibatch], dtype=int)\n",
    "replay_action\n",
    "replay_rewards"
   ]
  },
  {
   "cell_type": "code",
   "execution_count": null,
   "metadata": {},
   "outputs": [],
   "source": [
    "target_predict = target_network.predict(replay_next_state)\n",
    "print('Target prediction shape: ', target_predict.shape)\n",
    "print('Example of predicted values: ', target_predict[3])"
   ]
  },
  {
   "cell_type": "code",
   "execution_count": null,
   "metadata": {},
   "outputs": [],
   "source": [
    "print('Shape of the max: ', np.amax(target_predict,axis=1).shape)"
   ]
  },
  {
   "cell_type": "code",
   "execution_count": null,
   "metadata": {},
   "outputs": [],
   "source": [
    "target_for_action = replay_rewards + (1-replay_done) * gamma * \\\n",
    "                                    np.amax(target_predict, axis=1)\n",
    "target = online_network.predict(replay_state)  # targets coincide with predictions ...\n",
    "print('Target predicted by online network')\n",
    "print(target[:5])\n",
    "target[np.arange(batch_size), replay_action] = target_for_action\n",
    "print('Update with values predicted by target network')\n",
    "print(target[:5])\n",
    "print('Replay actions and target_for_action')\n",
    "for i in range(5):\n",
    "    print(replay_action[i],target_for_action[i])"
   ]
  },
  {
   "cell_type": "markdown",
   "metadata": {},
   "source": [
    "# Step 3 Train the model based on epsilon greedy strategy and save the model and weights"
   ]
  },
  {
   "cell_type": "code",
   "execution_count": null,
   "metadata": {},
   "outputs": [],
   "source": [
    "step = 0"
   ]
  },
  {
   "cell_type": "code",
   "execution_count": null,
   "metadata": {},
   "outputs": [],
   "source": [
    "step = 0\n",
    "iteration = 0\n",
    "done = True\n",
    "\n",
    "while step < n_steps:\n",
    "    if done:\n",
    "        obs = env.reset()\n",
    "    iteration += 1\n",
    "    obs = env.get_obs()\n",
    "    obs_state = np.array([get_state(obs)])\n",
    "    q_values = online_network.predict(obs_state)[0]  \n",
    "    epsilon = max(eps_min, eps_max - (eps_max-eps_min) * step/eps_decay_steps)\n",
    "    nb_actions = obs['possible_actions']\n",
    "    action = epsilon_greedy(q_values, epsilon, nb_actions)\n",
    "    next_obs = env.make_action(action)\n",
    "    done = next_obs['end_game']\n",
    "    replay_memory.append((get_state(obs), action, next_obs['reward'], get_state(next_obs), next_obs['end_game']))\n",
    "    obs = next_obs\n",
    "\n",
    "    if iteration >= warmup and iteration % training_interval == 0:\n",
    "        step += 1\n",
    "        minibatch = random.sample(replay_memory, batch_size)\n",
    "        replay_state = np.array([x[0] for x in minibatch])\n",
    "        replay_action = np.array([x[1] - 1 for x in minibatch])\n",
    "        replay_rewards = np.array([x[2] for x in minibatch])\n",
    "        replay_next_state = np.array([x[3] for x in minibatch])\n",
    "        replay_done = np.array([x[4] for x in minibatch], dtype=int)\n",
    "        replay_action\n",
    "        target_for_action = replay_rewards + (1-replay_done) * gamma * \\\n",
    "                                    np.amax(target_network.predict(replay_next_state), axis=1)\n",
    "        target = online_network.predict(replay_state)  # targets coincide with predictions ...\n",
    "        target[np.arange(batch_size), replay_action] = target_for_action  #...except for targets with actions from replay\n",
    "        online_network.fit(replay_state, target, epochs=step, verbose=1, initial_epoch=step-1)\n",
    "        if step % copy_steps == 0:\n",
    "            target_network.set_weights(online_network.get_weights())"
   ]
  },
  {
   "cell_type": "code",
   "execution_count": null,
   "metadata": {},
   "outputs": [],
   "source": [
    "online_network.save(\"saved_dqn_model.h5\")"
   ]
  },
  {
   "cell_type": "code",
   "execution_count": null,
   "metadata": {},
   "outputs": [],
   "source": [
    "from keras.models import load_model\n",
    "dqn_model = load_model(\"saved_dqn_model.h5\")"
   ]
  },
  {
   "cell_type": "code",
   "execution_count": null,
   "metadata": {},
   "outputs": [],
   "source": [
    "def test_dqn(env, n_games, model, nb_actions, eps=0.05, render=False, sleep_time=0.01):\n",
    "    scores = []\n",
    "    for i in range(n_games):\n",
    "        obs = env.reset()\n",
    "        score = 0\n",
    "        done = False\n",
    "        while not done:\n",
    "            obs_state = np.array([get_state(obs)])\n",
    "            q_values = online_network.predict(obs_state)[0] \n",
    "            epsilon = max(eps_min, eps_max - (eps_max-eps_min) * step/eps_decay_steps)\n",
    "            nb_actions = obs[\"possible_actions\"]\n",
    "            action = epsilon_greedy(q_values, epsilon, nb_actions)\n",
    "            next_obs = env.make_action(action)\n",
    "            reward = obs[\"reward\"]\n",
    "            done = next_obs[\"end_game\"]\n",
    "            score += reward\n",
    "            obs = next_obs\n",
    "            if render:\n",
    "                env.render()\n",
    "                time.sleep(sleep_time)\n",
    "        scores.append(score)\n",
    "    return scores"
   ]
  },
  {
   "cell_type": "code",
   "execution_count": null,
   "metadata": {},
   "outputs": [],
   "source": [
    "# set render=True in order to see how good (or bad) is the trained Q-network\n",
    "scores = test_dqn(env, 10, dqn_model, nb_actions, eps=0.01, render=True)"
   ]
  },
  {
   "cell_type": "code",
   "execution_count": null,
   "metadata": {},
   "outputs": [],
   "source": [
    "scores"
   ]
  },
  {
   "cell_type": "code",
   "execution_count": null,
   "metadata": {},
   "outputs": [],
   "source": [
    "def moving_average(v, window=100):\n",
    "    out = []\n",
    "    for j in range(len(v)):\n",
    "        out.append(sum(v[max(j-window+1, 0):j]) / (min(j, window) + 1))\n",
    "    return out"
   ]
  },
  {
   "cell_type": "code",
   "execution_count": null,
   "metadata": {},
   "outputs": [],
   "source": [
    "ma_scores = moving_average(scores, window=100)\n",
    "plt.plot(ma_scores)"
   ]
  },
  {
   "cell_type": "code",
   "execution_count": null,
   "metadata": {},
   "outputs": [],
   "source": [
    "nn_mean, nn_std, nn_min,nn_max, nn_median = np.mean(scores), np.std(scores), \\\n",
    "    np.min(scores), np.max(scores), np.median(scores)"
   ]
  },
  {
   "cell_type": "code",
   "execution_count": null,
   "metadata": {},
   "outputs": [],
   "source": [
    "from tabulate import tabulate\n",
    "all_summaries = np.array([['DQNet',nn_mean,nn_std,nn_min,nn_max, nn_median]])\n",
    "headers = ['Policy','Mean','Std','Min','Max','Median']\n",
    "summary_table = tabulate(all_summaries, headers)\n",
    "print(summary_table)"
   ]
  },
  {
   "cell_type": "code",
   "execution_count": null,
   "metadata": {},
   "outputs": [],
   "source": []
  },
  {
   "cell_type": "code",
   "execution_count": null,
   "metadata": {},
   "outputs": [],
   "source": []
  },
  {
   "cell_type": "code",
   "execution_count": null,
   "metadata": {},
   "outputs": [],
   "source": []
  },
  {
   "cell_type": "code",
   "execution_count": null,
   "metadata": {},
   "outputs": [],
   "source": []
  },
  {
   "cell_type": "code",
   "execution_count": null,
   "metadata": {},
   "outputs": [],
   "source": []
  },
  {
   "cell_type": "code",
   "execution_count": null,
   "metadata": {},
   "outputs": [],
   "source": []
  },
  {
   "cell_type": "code",
   "execution_count": null,
   "metadata": {},
   "outputs": [],
   "source": []
  },
  {
   "cell_type": "code",
   "execution_count": null,
   "metadata": {},
   "outputs": [],
   "source": []
  },
  {
   "cell_type": "code",
   "execution_count": null,
   "metadata": {},
   "outputs": [],
   "source": []
  },
  {
   "cell_type": "code",
   "execution_count": null,
   "metadata": {},
   "outputs": [],
   "source": []
  }
 ],
 "metadata": {
  "kernelspec": {
   "display_name": "Python 3",
   "language": "python",
   "name": "python3"
  },
  "language_info": {
   "codemirror_mode": {
    "name": "ipython",
    "version": 3
   },
   "file_extension": ".py",
   "mimetype": "text/x-python",
   "name": "python",
   "nbconvert_exporter": "python",
   "pygments_lexer": "ipython3",
   "version": "3.7.4"
  }
 },
 "nbformat": 4,
 "nbformat_minor": 2
}
